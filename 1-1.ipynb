{
 "cells": [
  {
   "cell_type": "markdown",
   "id": "f865bddb",
   "metadata": {},
   "source": [
    "## 1.1.1 : What is the diference between a compiler and an interpreter?"
   ]
  },
  {
   "cell_type": "markdown",
   "id": "56966cdc",
   "metadata": {},
   "source": [
    "Compilers translate a code from a language to another and the interpreter executes the operations on the source program when the user provides input"
   ]
  },
  {
   "cell_type": "markdown",
   "id": "ac23f85d",
   "metadata": {},
   "source": [
    "## 1.1.2 : What are the advantages of (a) a compiler over an interpreter (b) an interpreter over a compiler?"
   ]
  },
  {
   "cell_type": "markdown",
   "id": "f0148c76",
   "metadata": {},
   "source": [
    "(a) A translated code from a compiler is faster than other executed by a interpreter.\n",
    "\n",
    "(b) A interpreter provides better error messages to the user"
   ]
  },
  {
   "cell_type": "markdown",
   "id": "b445531d",
   "metadata": {},
   "source": [
    "## 1.1.3 : What advantages are there to a language-processing system inwhich the compiler produces assembly language rather than machine language?"
   ]
  },
  {
   "cell_type": "markdown",
   "id": "7f218590",
   "metadata": {},
   "source": [
    "It's easier to produce and debug"
   ]
  },
  {
   "cell_type": "markdown",
   "id": "2d7cadb6",
   "metadata": {},
   "source": [
    "## 1.1.4 : A compiler that translates a high-level language into another high-level language is called a source-to-source translator. What advantages are there to using C as a target language for a compiler?"
   ]
  },
  {
   "cell_type": "markdown",
   "id": "e270b39b",
   "metadata": {},
   "source": [
    "A code that can be executed in machines that should have only a C compiler"
   ]
  },
  {
   "cell_type": "markdown",
   "id": "5121a8e1",
   "metadata": {},
   "source": [
    "## 1.1.5 : Describe some of the tasks that an assembler needs to perform."
   ]
  },
  {
   "cell_type": "markdown",
   "id": "69e01325",
   "metadata": {},
   "source": [
    "Error handling, memory allocation, parsing and syntax analysis, generating output files, and others."
   ]
  }
 ],
 "metadata": {
  "kernelspec": {
   "display_name": "Python 3 (ipykernel)",
   "language": "python",
   "name": "python3"
  },
  "language_info": {
   "codemirror_mode": {
    "name": "ipython",
    "version": 3
   },
   "file_extension": ".py",
   "mimetype": "text/x-python",
   "name": "python",
   "nbconvert_exporter": "python",
   "pygments_lexer": "ipython3",
   "version": "3.10.9"
  }
 },
 "nbformat": 4,
 "nbformat_minor": 5
}
